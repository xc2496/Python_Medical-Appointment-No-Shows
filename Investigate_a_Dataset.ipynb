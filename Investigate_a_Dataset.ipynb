{
 "cells": [
  {
   "cell_type": "markdown",
   "metadata": {},
   "source": [
    " \n",
    "\n",
    "# Project: Investigate a Dataset - Medical Appointment No Shows\n",
    "\n",
    "# Xiaowen Chen  June 2020\n",
    "\n",
    "## Table of Contents\n",
    "<ul>\n",
    "<li><a href=\"#intro\">Introduction</a></li>\n",
    "<li><a href=\"#wrangling\">Data Wrangling</a></li>\n",
    "<li><a href=\"#research\">Research Questions</a></li>    \n",
    "<li><a href=\"#eda\">Exploratory Data Analysis</a></li>\n",
    "<li><a href=\"#conclusions\">Conclusions</a></li>\n",
    "</ul>"
   ]
  },
  {
   "cell_type": "markdown",
   "metadata": {},
   "source": [
    "<a id='intro'></a>\n",
    "## Introduction\n",
    "\n",
    "\n",
    "\n",
    "> In this project, I investigated a dataset of medical appoinment records for Brasil public hospitals. The data includes some demographic information, health condition, and other components of patients. All these variables are contribute to the state of whether the patients showed up to appointments or not. The analysis is focused on the factors that influencing patients to show or not show up to appointments.\n",
    "\n",
    "\n",
    "> This dataset downloaded from Kaggle. The data collected information from 100k medical appointments in Brazil and is focused on the question of whether or not patients show up for their appointment. A number of characteristics about the patient are included in each row.\n",
    "\n",
    "\n",
    "\n",
    "## General Research Question \n",
    "### How do different group of patients performance no show in the appointments?"
   ]
  },
  {
   "cell_type": "markdown",
   "metadata": {},
   "source": [
    "First, import all the packages will be needed in this project"
   ]
  },
  {
   "cell_type": "code",
   "execution_count": 1,
   "metadata": {},
   "outputs": [],
   "source": [
    "\n",
    "import pandas as pd\n",
    "import numpy as np\n",
    "import matplotlib as plt\n",
    "import matplotlib.pyplot as plt\n",
    "import csv as csv\n",
    "import seaborn as sns\n",
    "# Remember to include a 'magic word' so that your visualizations are plotted\n",
    "#   inline with the notebook. See this page for more:\n",
    "#   http://ipython.readthedocs.io/en/stable/interactive/magics.html\n"
   ]
  },
  {
   "cell_type": "markdown",
   "metadata": {},
   "source": [
    "<a id='wrangling'></a>\n",
    "## Data Wrangling\n",
    "\n",
    "> In this section of the report, I will load in the data, check for cleanliness, and then trim and clean the dataset for analysis. \n",
    "\n",
    "### General Properties"
   ]
  },
  {
   "cell_type": "markdown",
   "metadata": {},
   "source": [
    "Read the data file and show the first several rows for reviewing.\n",
    "Us df.shape,df.describe,df.describe,df,info,etc to see the description information of the raw data."
   ]
  },
  {
   "cell_type": "code",
   "execution_count": 2,
   "metadata": {},
   "outputs": [],
   "source": [
    "#Read data file\n",
    "df=pd.read_csv('noshow.csv')\n"
   ]
  },
  {
   "cell_type": "markdown",
   "metadata": {},
   "source": []
  },
  {
   "cell_type": "code",
   "execution_count": 3,
   "metadata": {},
   "outputs": [],
   "source": [
    "#Print out a few lines. \n",
    "df.head()\n",
    "#Rename \"No-show\" to \"No_show\"\n",
    "df=df.rename(columns={\"No-show\": \"NoShow\"})"
   ]
  },
  {
   "cell_type": "markdown",
   "metadata": {},
   "source": [
    ">The variables are:\n",
    "\n",
    "#### PatientId: \n",
    ">Identification number of a patient\n",
    "\n",
    "#### AppointmentID: \n",
    ">Identification number of each appointment\n",
    "\n",
    "#### Gender: \n",
    ">Male or Female\n",
    "\n",
    "#### ScheduledDay: \n",
    ">The day that the patient set up the appointment\n",
    "\n",
    "#### AppointmentDay: \n",
    ">The day that the patient actually participated the appointment\n",
    "\n",
    "#### Age: \n",
    ">How old is the patient\n",
    "\n",
    "#### Neighbourhood: \n",
    ">Where the appointment takes place\n",
    "\n",
    "#### Scholarship: \n",
    ">True or False, indicates if the patient is in the Brazilian welfare program - Bolsa Familia program\n",
    "\n",
    "#### Hipertension: \n",
    ">True or False, indicates if the patient had Hipertension.\n",
    "\n",
    "#### Diabetes:\n",
    ">True or False, indicates if the patient had Diabeties\n",
    "\n",
    "#### Alcoholism: \n",
    ">True or False, indicates if the patient is an alcoholic\n",
    "\n",
    "#### Handcap: \n",
    ">True or False, indicates if the patient is handicapped\n",
    "\n",
    "#### SMS_received: \n",
    ">1 or more messages sent to the patient\n",
    "\n",
    "#### No_show:\n",
    ">\"No\" indicates if the patient showed up to their appointment and \"Yes\" if they didn't show up"
   ]
  },
  {
   "cell_type": "code",
   "execution_count": 4,
   "metadata": {},
   "outputs": [
    {
     "data": {
      "text/plain": [
       "(110527, 14)"
      ]
     },
     "execution_count": 4,
     "metadata": {},
     "output_type": "execute_result"
    }
   ],
   "source": [
    "df.shape"
   ]
  },
  {
   "cell_type": "markdown",
   "metadata": {},
   "source": [
    "\n",
    "There are 110,527 subjects and 14 columns in the data."
   ]
  },
  {
   "cell_type": "code",
   "execution_count": 5,
   "metadata": {},
   "outputs": [
    {
     "data": {
      "text/plain": [
       "0"
      ]
     },
     "execution_count": 5,
     "metadata": {},
     "output_type": "execute_result"
    }
   ],
   "source": [
    "# checking for general data duplicates\n",
    "df.duplicated().sum()\n",
    "df.PatientId.duplicated().sum()\n",
    "df.AppointmentID.duplicated().sum()\n"
   ]
  },
  {
   "cell_type": "markdown",
   "metadata": {},
   "source": [
    "There is no duplicated subjects in the dataset."
   ]
  },
  {
   "cell_type": "code",
   "execution_count": 6,
   "metadata": {},
   "outputs": [
    {
     "name": "stdout",
     "output_type": "stream",
     "text": [
      "<class 'pandas.core.frame.DataFrame'>\n",
      "RangeIndex: 110527 entries, 0 to 110526\n",
      "Data columns (total 14 columns):\n",
      "PatientId         110527 non-null float64\n",
      "AppointmentID     110527 non-null int64\n",
      "Gender            110527 non-null object\n",
      "ScheduledDay      110527 non-null object\n",
      "AppointmentDay    110527 non-null object\n",
      "Age               110527 non-null int64\n",
      "Neighbourhood     110527 non-null object\n",
      "Scholarship       110527 non-null int64\n",
      "Hipertension      110527 non-null int64\n",
      "Diabetes          110527 non-null int64\n",
      "Alcoholism        110527 non-null int64\n",
      "Handcap           110527 non-null int64\n",
      "SMS_received      110527 non-null int64\n",
      "NoShow            110527 non-null object\n",
      "dtypes: float64(1), int64(8), object(5)\n",
      "memory usage: 11.8+ MB\n"
     ]
    }
   ],
   "source": [
    "df.info()"
   ]
  },
  {
   "cell_type": "markdown",
   "metadata": {},
   "source": [
    "#### Initial Observations"
   ]
  },
  {
   "cell_type": "markdown",
   "metadata": {},
   "source": [
    "The data had 110,527 subjects in 14 variables.\n",
    "\n",
    "df.info() told us there are no missing values for the whole dataset. \n",
    "\n",
    "PatientId is on float data type, which should be in string. ApporintmentID, Age, Scholarship, Hipertension, Diabeties, Alcoholism, Handcap and SMS_received is on a integer data type. The rest of the data records were as the objects. Scholarship, Hipertension, Diabeties, Alcoholism, and Handcap had two data entries, such that True (1), False (0).\n",
    "\n",
    "The appointment_day has no hour specified (it equals to 00:00:00). We will not be able to analyze if the appointment hour has anything to do with no shows.\n",
    "\n",
    "The scheduled_day and appointment_day columns type should be changed to datetime。"
   ]
  },
  {
   "cell_type": "markdown",
   "metadata": {},
   "source": [
    "I decided to keep PatientID as a reference column but and I will AppointmentID, since it is useless for the analysis\n",
    "No-Show is the dependent variable, which indicated whether the patient attended the appointment. The rest of the variables were the independent variables, which possibly contribute to the result of dependent variable. \n",
    "\n"
   ]
  },
  {
   "cell_type": "markdown",
   "metadata": {},
   "source": [
    "#### Check if we need to create more columns with usefull data for the exploration\n",
    "We can add one more column to show which day of the week of the appointment is to explore where the day of the week is also another factor."
   ]
  },
  {
   "cell_type": "markdown",
   "metadata": {},
   "source": [
    "### Data Cleaning\n"
   ]
  },
  {
   "cell_type": "markdown",
   "metadata": {
    "collapsed": true
   },
   "source": [
    "1. PatientId should be converted into string data type."
   ]
  },
  {
   "cell_type": "code",
   "execution_count": 7,
   "metadata": {},
   "outputs": [],
   "source": [
    "# formatting the patient_id column as string\n",
    "df.PatientId = df.PatientId.apply(lambda patient: str(int(patient)))"
   ]
  },
  {
   "cell_type": "markdown",
   "metadata": {},
   "source": [
    "2. Drop AppointmentID variable."
   ]
  },
  {
   "cell_type": "code",
   "execution_count": 8,
   "metadata": {},
   "outputs": [
    {
     "data": {
      "text/plain": [
       "Index(['PatientId', 'Gender', 'ScheduledDay', 'AppointmentDay', 'Age',\n",
       "       'Neighbourhood', 'Scholarship', 'Hipertension', 'Diabetes',\n",
       "       'Alcoholism', 'Handcap', 'SMS_received', 'NoShow'],\n",
       "      dtype='object')"
      ]
     },
     "execution_count": 8,
     "metadata": {},
     "output_type": "execute_result"
    }
   ],
   "source": [
    "# Remove some useless columns\n",
    "# I think the AppointmentID is useless for this analysis\n",
    "df.drop(['AppointmentID'], axis=1, inplace=True)\n",
    "df.columns"
   ]
  },
  {
   "cell_type": "markdown",
   "metadata": {},
   "source": [
    "3. The scheduled_day and appointment_day columns type should be changed to datetime.\n"
   ]
  },
  {
   "cell_type": "code",
   "execution_count": 9,
   "metadata": {},
   "outputs": [
    {
     "data": {
      "text/plain": [
       "(0   2016-04-29 18:38:08\n",
       " Name: ScheduledDay, dtype: datetime64[ns], 0   2016-04-29\n",
       " Name: AppointmentDay, dtype: datetime64[ns])"
      ]
     },
     "execution_count": 9,
     "metadata": {},
     "output_type": "execute_result"
    }
   ],
   "source": [
    "# Formatting the date time 'scheduled_day' and 'appointment_day' columns\n",
    "\n",
    "df.ScheduledDay = pd.to_datetime(df.ScheduledDay)\n",
    "df.AppointmentDay = df.AppointmentDay.apply(np.datetime64)\n",
    "\n",
    "df.ScheduledDay.head(1), df.AppointmentDay.head(1)"
   ]
  },
  {
   "cell_type": "markdown",
   "metadata": {},
   "source": [
    "4. Add one more column as WeekDay.\n",
    "WeekDay: to show what day of the week the appointment was scheduled"
   ]
  },
  {
   "cell_type": "code",
   "execution_count": 10,
   "metadata": {},
   "outputs": [
    {
     "data": {
      "text/html": [
       "<div>\n",
       "<style scoped>\n",
       "    .dataframe tbody tr th:only-of-type {\n",
       "        vertical-align: middle;\n",
       "    }\n",
       "\n",
       "    .dataframe tbody tr th {\n",
       "        vertical-align: top;\n",
       "    }\n",
       "\n",
       "    .dataframe thead th {\n",
       "        text-align: right;\n",
       "    }\n",
       "</style>\n",
       "<table border=\"1\" class=\"dataframe\">\n",
       "  <thead>\n",
       "    <tr style=\"text-align: right;\">\n",
       "      <th></th>\n",
       "      <th>PatientId</th>\n",
       "      <th>Gender</th>\n",
       "      <th>ScheduledDay</th>\n",
       "      <th>AppointmentDay</th>\n",
       "      <th>Age</th>\n",
       "      <th>Neighbourhood</th>\n",
       "      <th>Scholarship</th>\n",
       "      <th>Hipertension</th>\n",
       "      <th>Diabetes</th>\n",
       "      <th>Alcoholism</th>\n",
       "      <th>Handcap</th>\n",
       "      <th>SMS_received</th>\n",
       "      <th>NoShow</th>\n",
       "      <th>WeekDay</th>\n",
       "    </tr>\n",
       "  </thead>\n",
       "  <tbody>\n",
       "    <tr>\n",
       "      <th>0</th>\n",
       "      <td>29872499824296</td>\n",
       "      <td>F</td>\n",
       "      <td>2016-04-29 18:38:08</td>\n",
       "      <td>2016-04-29</td>\n",
       "      <td>62</td>\n",
       "      <td>JARDIM DA PENHA</td>\n",
       "      <td>0</td>\n",
       "      <td>1</td>\n",
       "      <td>0</td>\n",
       "      <td>0</td>\n",
       "      <td>0</td>\n",
       "      <td>0</td>\n",
       "      <td>No</td>\n",
       "      <td>Friday</td>\n",
       "    </tr>\n",
       "    <tr>\n",
       "      <th>1</th>\n",
       "      <td>558997776694438</td>\n",
       "      <td>M</td>\n",
       "      <td>2016-04-29 16:08:27</td>\n",
       "      <td>2016-04-29</td>\n",
       "      <td>56</td>\n",
       "      <td>JARDIM DA PENHA</td>\n",
       "      <td>0</td>\n",
       "      <td>0</td>\n",
       "      <td>0</td>\n",
       "      <td>0</td>\n",
       "      <td>0</td>\n",
       "      <td>0</td>\n",
       "      <td>No</td>\n",
       "      <td>Friday</td>\n",
       "    </tr>\n",
       "    <tr>\n",
       "      <th>2</th>\n",
       "      <td>4262962299951</td>\n",
       "      <td>F</td>\n",
       "      <td>2016-04-29 16:19:04</td>\n",
       "      <td>2016-04-29</td>\n",
       "      <td>62</td>\n",
       "      <td>MATA DA PRAIA</td>\n",
       "      <td>0</td>\n",
       "      <td>0</td>\n",
       "      <td>0</td>\n",
       "      <td>0</td>\n",
       "      <td>0</td>\n",
       "      <td>0</td>\n",
       "      <td>No</td>\n",
       "      <td>Friday</td>\n",
       "    </tr>\n",
       "    <tr>\n",
       "      <th>3</th>\n",
       "      <td>867951213174</td>\n",
       "      <td>F</td>\n",
       "      <td>2016-04-29 17:29:31</td>\n",
       "      <td>2016-04-29</td>\n",
       "      <td>8</td>\n",
       "      <td>PONTAL DE CAMBURI</td>\n",
       "      <td>0</td>\n",
       "      <td>0</td>\n",
       "      <td>0</td>\n",
       "      <td>0</td>\n",
       "      <td>0</td>\n",
       "      <td>0</td>\n",
       "      <td>No</td>\n",
       "      <td>Friday</td>\n",
       "    </tr>\n",
       "    <tr>\n",
       "      <th>4</th>\n",
       "      <td>8841186448183</td>\n",
       "      <td>F</td>\n",
       "      <td>2016-04-29 16:07:23</td>\n",
       "      <td>2016-04-29</td>\n",
       "      <td>56</td>\n",
       "      <td>JARDIM DA PENHA</td>\n",
       "      <td>0</td>\n",
       "      <td>1</td>\n",
       "      <td>1</td>\n",
       "      <td>0</td>\n",
       "      <td>0</td>\n",
       "      <td>0</td>\n",
       "      <td>No</td>\n",
       "      <td>Friday</td>\n",
       "    </tr>\n",
       "  </tbody>\n",
       "</table>\n",
       "</div>"
      ],
      "text/plain": [
       "         PatientId Gender        ScheduledDay AppointmentDay  Age  \\\n",
       "0   29872499824296      F 2016-04-29 18:38:08     2016-04-29   62   \n",
       "1  558997776694438      M 2016-04-29 16:08:27     2016-04-29   56   \n",
       "2    4262962299951      F 2016-04-29 16:19:04     2016-04-29   62   \n",
       "3     867951213174      F 2016-04-29 17:29:31     2016-04-29    8   \n",
       "4    8841186448183      F 2016-04-29 16:07:23     2016-04-29   56   \n",
       "\n",
       "       Neighbourhood  Scholarship  Hipertension  Diabetes  Alcoholism  \\\n",
       "0    JARDIM DA PENHA            0             1         0           0   \n",
       "1    JARDIM DA PENHA            0             0         0           0   \n",
       "2      MATA DA PRAIA            0             0         0           0   \n",
       "3  PONTAL DE CAMBURI            0             0         0           0   \n",
       "4    JARDIM DA PENHA            0             1         1           0   \n",
       "\n",
       "   Handcap  SMS_received NoShow WeekDay  \n",
       "0        0             0     No  Friday  \n",
       "1        0             0     No  Friday  \n",
       "2        0             0     No  Friday  \n",
       "3        0             0     No  Friday  \n",
       "4        0             0     No  Friday  "
      ]
     },
     "execution_count": 10,
     "metadata": {},
     "output_type": "execute_result"
    }
   ],
   "source": [
    "# creating the first column \"appointment_week_day\"\n",
    "df['WeekDay'] = df.AppointmentDay.map(lambda day: day.day_name())\n",
    "df.head()"
   ]
  },
  {
   "cell_type": "code",
   "execution_count": 11,
   "metadata": {},
   "outputs": [
    {
     "data": {
      "text/plain": [
       " 0      3539\n",
       " 1      2273\n",
       " 52     1746\n",
       " 49     1652\n",
       " 53     1651\n",
       " 56     1635\n",
       " 38     1629\n",
       " 59     1624\n",
       " 2      1618\n",
       " 50     1613\n",
       " 57     1603\n",
       " 36     1580\n",
       " 51     1567\n",
       " 19     1545\n",
       " 39     1536\n",
       " 37     1533\n",
       " 54     1530\n",
       " 34     1526\n",
       " 33     1524\n",
       " 30     1521\n",
       " 6      1521\n",
       " 3      1513\n",
       " 17     1509\n",
       " 32     1505\n",
       " 5      1489\n",
       " 44     1487\n",
       " 18     1487\n",
       " 58     1469\n",
       " 46     1460\n",
       " 45     1453\n",
       "        ... \n",
       " 74      602\n",
       " 76      571\n",
       " 75      544\n",
       " 78      541\n",
       " 77      527\n",
       " 80      511\n",
       " 81      434\n",
       " 82      392\n",
       " 79      390\n",
       " 84      311\n",
       " 83      280\n",
       " 85      275\n",
       " 86      260\n",
       " 87      184\n",
       " 89      173\n",
       " 88      126\n",
       " 90      109\n",
       " 92       86\n",
       " 91       66\n",
       " 93       53\n",
       " 94       33\n",
       " 95       24\n",
       " 96       17\n",
       " 97       11\n",
       " 98        6\n",
       " 115       5\n",
       " 100       4\n",
       " 102       2\n",
       " 99        1\n",
       "-1         1\n",
       "Name: Age, Length: 104, dtype: int64"
      ]
     },
     "execution_count": 11,
     "metadata": {},
     "output_type": "execute_result"
    }
   ],
   "source": [
    "#Take a look at age variable\n",
    "df.Age.value_counts()"
   ]
  },
  {
   "cell_type": "code",
   "execution_count": 12,
   "metadata": {},
   "outputs": [
    {
     "data": {
      "text/plain": [
       "<matplotlib.axes._subplots.AxesSubplot at 0x7f4f3977e908>"
      ]
     },
     "execution_count": 12,
     "metadata": {},
     "output_type": "execute_result"
    },
    {
     "data": {
      "image/png": "[encoded data removed]",
      "text/plain": [
       "<matplotlib.figure.Figure at 0x7f4f3977eeb8>"
      ]
     },
     "metadata": {
      "needs_background": "light"
     },
     "output_type": "display_data"
    }
   ],
   "source": [
    "sns.boxplot(x=df['Age'])"
   ]
  },
  {
   "cell_type": "markdown",
   "metadata": {},
   "source": [
    "5. We could see Age column is having outliers of negative age and greater than 100 especially 115. Though 100+ age is possible in the real time scenario, still those are outliers and must be cleaned. \n",
    "\n",
    "This cleaning can be done either by removing those since we have enough sample size."
   ]
  },
  {
   "cell_type": "code",
   "execution_count": 13,
   "metadata": {},
   "outputs": [],
   "source": [
    "#clean age outliers and incorrect input.\n",
    "#I will remove the subjects with age entered as -1 and greater than 100"
   ]
  },
  {
   "cell_type": "code",
   "execution_count": 14,
   "metadata": {},
   "outputs": [],
   "source": [
    "df = df.drop(df[(df.Age >100) ].index)\n",
    "df = df[df.Age != -1]"
   ]
  },
  {
   "cell_type": "markdown",
   "metadata": {},
   "source": [
    "After checking the dataset so far, it looks well cleaned and good to evaluate."
   ]
  },
  {
   "cell_type": "code",
   "execution_count": 15,
   "metadata": {},
   "outputs": [
    {
     "name": "stdout",
     "output_type": "stream",
     "text": [
      "<class 'pandas.core.frame.DataFrame'>\n",
      "Int64Index: 110519 entries, 0 to 110526\n",
      "Data columns (total 14 columns):\n",
      "PatientId         110519 non-null object\n",
      "Gender            110519 non-null object\n",
      "ScheduledDay      110519 non-null datetime64[ns]\n",
      "AppointmentDay    110519 non-null datetime64[ns]\n",
      "Age               110519 non-null int64\n",
      "Neighbourhood     110519 non-null object\n",
      "Scholarship       110519 non-null int64\n",
      "Hipertension      110519 non-null int64\n",
      "Diabetes          110519 non-null int64\n",
      "Alcoholism        110519 non-null int64\n",
      "Handcap           110519 non-null int64\n",
      "SMS_received      110519 non-null int64\n",
      "NoShow            110519 non-null object\n",
      "WeekDay           110519 non-null object\n",
      "dtypes: datetime64[ns](2), int64(7), object(5)\n",
      "memory usage: 12.6+ MB\n"
     ]
    }
   ],
   "source": [
    "df.info()"
   ]
  },
  {
   "cell_type": "code",
   "execution_count": 16,
   "metadata": {},
   "outputs": [
    {
     "data": {
      "text/html": [
       "<div>\n",
       "<style scoped>\n",
       "    .dataframe tbody tr th:only-of-type {\n",
       "        vertical-align: middle;\n",
       "    }\n",
       "\n",
       "    .dataframe tbody tr th {\n",
       "        vertical-align: top;\n",
       "    }\n",
       "\n",
       "    .dataframe thead th {\n",
       "        text-align: right;\n",
       "    }\n",
       "</style>\n",
       "<table border=\"1\" class=\"dataframe\">\n",
       "  <thead>\n",
       "    <tr style=\"text-align: right;\">\n",
       "      <th></th>\n",
       "      <th>Age</th>\n",
       "      <th>Scholarship</th>\n",
       "      <th>Hipertension</th>\n",
       "      <th>Diabetes</th>\n",
       "      <th>Alcoholism</th>\n",
       "      <th>Handcap</th>\n",
       "      <th>SMS_received</th>\n",
       "    </tr>\n",
       "  </thead>\n",
       "  <tbody>\n",
       "    <tr>\n",
       "      <th>count</th>\n",
       "      <td>110519.000000</td>\n",
       "      <td>110519.000000</td>\n",
       "      <td>110519.000000</td>\n",
       "      <td>110519.000000</td>\n",
       "      <td>110519.000000</td>\n",
       "      <td>110519.000000</td>\n",
       "      <td>110519.000000</td>\n",
       "    </tr>\n",
       "    <tr>\n",
       "      <th>mean</th>\n",
       "      <td>37.084519</td>\n",
       "      <td>0.098273</td>\n",
       "      <td>0.197251</td>\n",
       "      <td>0.071870</td>\n",
       "      <td>0.030402</td>\n",
       "      <td>0.022213</td>\n",
       "      <td>0.321040</td>\n",
       "    </tr>\n",
       "    <tr>\n",
       "      <th>std</th>\n",
       "      <td>23.103165</td>\n",
       "      <td>0.297684</td>\n",
       "      <td>0.397925</td>\n",
       "      <td>0.258274</td>\n",
       "      <td>0.171692</td>\n",
       "      <td>0.161441</td>\n",
       "      <td>0.466878</td>\n",
       "    </tr>\n",
       "    <tr>\n",
       "      <th>min</th>\n",
       "      <td>0.000000</td>\n",
       "      <td>0.000000</td>\n",
       "      <td>0.000000</td>\n",
       "      <td>0.000000</td>\n",
       "      <td>0.000000</td>\n",
       "      <td>0.000000</td>\n",
       "      <td>0.000000</td>\n",
       "    </tr>\n",
       "    <tr>\n",
       "      <th>25%</th>\n",
       "      <td>18.000000</td>\n",
       "      <td>0.000000</td>\n",
       "      <td>0.000000</td>\n",
       "      <td>0.000000</td>\n",
       "      <td>0.000000</td>\n",
       "      <td>0.000000</td>\n",
       "      <td>0.000000</td>\n",
       "    </tr>\n",
       "    <tr>\n",
       "      <th>50%</th>\n",
       "      <td>37.000000</td>\n",
       "      <td>0.000000</td>\n",
       "      <td>0.000000</td>\n",
       "      <td>0.000000</td>\n",
       "      <td>0.000000</td>\n",
       "      <td>0.000000</td>\n",
       "      <td>0.000000</td>\n",
       "    </tr>\n",
       "    <tr>\n",
       "      <th>75%</th>\n",
       "      <td>55.000000</td>\n",
       "      <td>0.000000</td>\n",
       "      <td>0.000000</td>\n",
       "      <td>0.000000</td>\n",
       "      <td>0.000000</td>\n",
       "      <td>0.000000</td>\n",
       "      <td>1.000000</td>\n",
       "    </tr>\n",
       "    <tr>\n",
       "      <th>max</th>\n",
       "      <td>100.000000</td>\n",
       "      <td>1.000000</td>\n",
       "      <td>1.000000</td>\n",
       "      <td>1.000000</td>\n",
       "      <td>1.000000</td>\n",
       "      <td>4.000000</td>\n",
       "      <td>1.000000</td>\n",
       "    </tr>\n",
       "  </tbody>\n",
       "</table>\n",
       "</div>"
      ],
      "text/plain": [
       "                 Age    Scholarship   Hipertension       Diabetes  \\\n",
       "count  110519.000000  110519.000000  110519.000000  110519.000000   \n",
       "mean       37.084519       0.098273       0.197251       0.071870   \n",
       "std        23.103165       0.297684       0.397925       0.258274   \n",
       "min         0.000000       0.000000       0.000000       0.000000   \n",
       "25%        18.000000       0.000000       0.000000       0.000000   \n",
       "50%        37.000000       0.000000       0.000000       0.000000   \n",
       "75%        55.000000       0.000000       0.000000       0.000000   \n",
       "max       100.000000       1.000000       1.000000       1.000000   \n",
       "\n",
       "          Alcoholism        Handcap   SMS_received  \n",
       "count  110519.000000  110519.000000  110519.000000  \n",
       "mean        0.030402       0.022213       0.321040  \n",
       "std         0.171692       0.161441       0.466878  \n",
       "min         0.000000       0.000000       0.000000  \n",
       "25%         0.000000       0.000000       0.000000  \n",
       "50%         0.000000       0.000000       0.000000  \n",
       "75%         0.000000       0.000000       1.000000  \n",
       "max         1.000000       4.000000       1.000000  "
      ]
     },
     "execution_count": 16,
     "metadata": {},
     "output_type": "execute_result"
    }
   ],
   "source": [
    "df.describe()"
   ]
  },
  {
   "cell_type": "markdown",
   "metadata": {},
   "source": []
  },
  {
   "cell_type": "markdown",
   "metadata": {},
   "source": [
    "Now, the data had 110,519 subjects in 14 variables. The maximum age is 100 now."
   ]
  },
  {
   "cell_type": "markdown",
   "metadata": {},
   "source": [
    "# <a id='research'></a>\n",
    "## Research Questions\n",
    "\n",
    "\n",
    "### Question 1: What is the independent variable? What is the dependent variable?\n",
    "### Question 2: What are the no show record differences between female and male?\n",
    "### Question 3: What is the distribution of age of show and no show?\n",
    "### Question 4: Which day of the week is more likely to have no-show? What is the distribution look like?"
   ]
  },
  {
   "cell_type": "markdown",
   "metadata": {},
   "source": [
    "<a id='eda'></a>\n",
    "## Exploratory Data Analysis\n",
    "\n",
    "> **Tip**: Now that you've trimmed and cleaned your data, you're ready to move on to exploration. Compute statistics and create visualizations with the goal of addressing the research questions that you posed in the Introduction section. It is recommended that you be systematic with your approach. Look at one variable at a time, and then follow it up by looking at relationships between variables.\n",
    "\n",
    "### Question 1: What is the independent variable? What is the dependent variable?"
   ]
  },
  {
   "cell_type": "markdown",
   "metadata": {
    "collapsed": true
   },
   "source": [
    "Gender,ScheduledDay,AppointmentDay, Age, Neighbourhood, Scholarship, Hipertension, Diabetes, Alcoholism, Handcap, SMS_received and WeekDay are independent variables. \n",
    "Whether the patient was no-show (No-show)\tis the dependent variable \n"
   ]
  },
  {
   "cell_type": "markdown",
   "metadata": {},
   "source": [
    "### Question 2: What are the no show record differences between female and male?"
   ]
  },
  {
   "cell_type": "code",
   "execution_count": 17,
   "metadata": {},
   "outputs": [
    {
     "data": {
      "text/plain": [
       "Text(0,0.5,'Frequency')"
      ]
     },
     "execution_count": 17,
     "metadata": {},
     "output_type": "execute_result"
    },
    {
     "data": {
      "image/png": "[encoded data removed]",
      "text/plain": [
       "<matplotlib.figure.Figure at 0x7f4f39e93518>"
      ]
     },
     "metadata": {
      "needs_background": "light"
     },
     "output_type": "display_data"
    }
   ],
   "source": [
    "plt.hist(df['Gender'], color = 'blue', edgecolor = 'black',\n",
    "         bins = int(180/50))\n",
    "plt.title('Histogram of Gender distribution')\n",
    "plt.xlabel('Gender')\n",
    "plt.ylabel('Frequency')"
   ]
  },
  {
   "cell_type": "markdown",
   "metadata": {},
   "source": [
    "There are around 70000 female patients and 40000 male patients in the record."
   ]
  },
  {
   "cell_type": "code",
   "execution_count": 18,
   "metadata": {},
   "outputs": [],
   "source": [
    "\n",
    "# name the no show records\n",
    "attend=df.NoShow==\"Yes\"\n",
    "not_attend=df.NoShow==\"No\""
   ]
  },
  {
   "cell_type": "code",
   "execution_count": 19,
   "metadata": {},
   "outputs": [
    {
     "data": {
      "text/plain": [
       "Text(0,0.5,'Frequency')"
      ]
     },
     "execution_count": 19,
     "metadata": {},
     "output_type": "execute_result"
    },
    {
     "data": {
      "image/png": "[encoded data removed]",
      "text/plain": [
       "<matplotlib.figure.Figure at 0x7f4f3a87e0b8>"
      ]
     },
     "metadata": {
      "needs_background": "light"
     },
     "output_type": "display_data"
    }
   ],
   "source": [
    "\n",
    "plt.hist(df.Gender[attend], color = 'blue', edgecolor = 'black',\n",
    "         bins = int(180/50))\n",
    "plt.title('Histogram of attend in Genders')\n",
    "plt.xlabel('Genders')\n",
    "plt.ylabel('Frequency')"
   ]
  },
  {
   "cell_type": "markdown",
   "metadata": {},
   "source": [
    "The above histogram showed that there were more female patients attended for the appointments than male patients. "
   ]
  },
  {
   "cell_type": "code",
   "execution_count": 20,
   "metadata": {},
   "outputs": [
    {
     "data": {
      "text/plain": [
       "Text(0,0.5,'Frequency')"
      ]
     },
     "execution_count": 20,
     "metadata": {},
     "output_type": "execute_result"
    },
    {
     "data": {
      "image/png": "[encoded data removed]",
      "text/plain": [
       "<matplotlib.figure.Figure at 0x7f4f3a8714e0>"
      ]
     },
     "metadata": {
      "needs_background": "light"
     },
     "output_type": "display_data"
    }
   ],
   "source": [
    "\n",
    "plt.hist(df.Gender[not_attend], color = 'blue', edgecolor = 'black',\n",
    "         bins = int(180/50))\n",
    "plt.title('Histogram of No Show in Genders')\n",
    "plt.xlabel('Genders')\n",
    "plt.ylabel('Frequency')"
   ]
  },
  {
   "cell_type": "markdown",
   "metadata": {},
   "source": [
    "The above histogram showed that there were more female patients no showed for the appointments than male patients. "
   ]
  },
  {
   "cell_type": "code",
   "execution_count": 21,
   "metadata": {},
   "outputs": [
    {
     "data": {
      "text/plain": [
       "Gender  NoShow\n",
       "F       No        57241\n",
       "        Yes       14591\n",
       "M       No        30962\n",
       "        Yes        7725\n",
       "Name: NoShow, dtype: int64"
      ]
     },
     "execution_count": 21,
     "metadata": {},
     "output_type": "execute_result"
    }
   ],
   "source": [
    "#NoShow record categorized by genders\n",
    "df.groupby ('Gender')['NoShow'].value_counts()\n"
   ]
  },
  {
   "cell_type": "code",
   "execution_count": 22,
   "metadata": {},
   "outputs": [
    {
     "data": {
      "text/plain": [
       "F    71832\n",
       "M    38687\n",
       "Name: Gender, dtype: int64"
      ]
     },
     "execution_count": 22,
     "metadata": {},
     "output_type": "execute_result"
    }
   ],
   "source": [
    "#Count genders\n",
    "df.Gender.value_counts()"
   ]
  },
  {
   "cell_type": "code",
   "execution_count": 23,
   "metadata": {},
   "outputs": [
    {
     "data": {
      "text/plain": [
       "0.2031267401715113"
      ]
     },
     "execution_count": 23,
     "metadata": {},
     "output_type": "execute_result"
    }
   ],
   "source": [
    "#Female no show\n",
    "14591/71832"
   ]
  },
  {
   "cell_type": "code",
   "execution_count": 24,
   "metadata": {},
   "outputs": [
    {
     "data": {
      "text/plain": [
       "0.19967947889471915"
      ]
     },
     "execution_count": 24,
     "metadata": {},
     "output_type": "execute_result"
    }
   ],
   "source": [
    "#Male no show\n",
    "7725/38687"
   ]
  },
  {
   "cell_type": "markdown",
   "metadata": {},
   "source": [
    "The percentage of no show in female group is slightly higher than male group. The percentage of no show in female group is 20.31%.  The percentage of no show in male group is 19.67%. "
   ]
  },
  {
   "cell_type": "markdown",
   "metadata": {},
   "source": [
    "### Question 3: What is the distribution of age of show and no show?"
   ]
  },
  {
   "cell_type": "code",
   "execution_count": 25,
   "metadata": {},
   "outputs": [
    {
     "data": {
      "text/plain": [
       "Text(0,0.5,'Frequency')"
      ]
     },
     "execution_count": 25,
     "metadata": {},
     "output_type": "execute_result"
    },
    {
     "data": {
      "image/png": "[encoded data removed]",
      "text/plain": [
       "<matplotlib.figure.Figure at 0x7f4f3ac57eb8>"
      ]
     },
     "metadata": {
      "needs_background": "light"
     },
     "output_type": "display_data"
    }
   ],
   "source": [
    "\n",
    "# matplotlib histogram\n",
    "plt.hist(df['Age'], color = 'blue', edgecolor = 'black',\n",
    "         bins = int(180/5))\n",
    "plt.title('Histogram of Age distribution')\n",
    "plt.xlabel('Age')\n",
    "plt.ylabel('Frequency')"
   ]
  },
  {
   "cell_type": "markdown",
   "metadata": {},
   "source": [
    "According to the above histogram, we can tell that the age distribution is skew to the right. The mode of age is at the age of baby."
   ]
  },
  {
   "cell_type": "code",
   "execution_count": 26,
   "metadata": {},
   "outputs": [
    {
     "data": {
      "text/plain": [
       "Text(0,0.5,'Frequency')"
      ]
     },
     "execution_count": 26,
     "metadata": {},
     "output_type": "execute_result"
    },
    {
     "data": {
      "image/png": "[encoded data removed]",
      "text/plain": [
       "<matplotlib.figure.Figure at 0x7f4f3ac87748>"
      ]
     },
     "metadata": {
      "needs_background": "light"
     },
     "output_type": "display_data"
    }
   ],
   "source": [
    "plt.hist(df.Age[not_attend], color = 'blue', edgecolor = 'black',\n",
    "         bins = int(180/5))\n",
    "plt.title('Histogram of Age distribution who are not attend')\n",
    "plt.xlabel('Age')\n",
    "plt.ylabel('Frequency')"
   ]
  },
  {
   "cell_type": "markdown",
   "metadata": {},
   "source": [
    "According to the above histogram, we can tell that the no show record corresponding to age is skew to the right. Fewer no shows were happend the older people."
   ]
  },
  {
   "cell_type": "code",
   "execution_count": 27,
   "metadata": {},
   "outputs": [
    {
     "data": {
      "text/plain": [
       "Text(0,0.5,'Frequency')"
      ]
     },
     "execution_count": 27,
     "metadata": {},
     "output_type": "execute_result"
    },
    {
     "data": {
      "image/png": "[encoded data removed]",
      "text/plain": [
       "<matplotlib.figure.Figure at 0x7f4f3ab01940>"
      ]
     },
     "metadata": {
      "needs_background": "light"
     },
     "output_type": "display_data"
    }
   ],
   "source": [
    "plt.hist(df.Age[attend], color = 'blue', edgecolor = 'black',\n",
    "         bins = int(180/5))\n",
    "plt.title('Histogram of Age distribution who attended')\n",
    "plt.xlabel('Age')\n",
    "plt.ylabel('Frequency')"
   ]
  },
  {
   "cell_type": "markdown",
   "metadata": {},
   "source": [
    "According to the above histogram, we can tell that the attended record corresponding to age is skew to the right. Fewer no shows were happend the older people. With the increase in age, the attend frequency decreased and increased until the age around 60. Then there is a sharply decrease of attended record for older people."
   ]
  },
  {
   "cell_type": "code",
   "execution_count": null,
   "metadata": {},
   "outputs": [],
   "source": []
  },
  {
   "cell_type": "markdown",
   "metadata": {},
   "source": [
    "### Question 4: Which day of the week is more likely to have no-show? What is the distribution look like?"
   ]
  },
  {
   "cell_type": "code",
   "execution_count": 28,
   "metadata": {},
   "outputs": [
    {
     "data": {
      "text/plain": [
       "Text(0,0.5,'Frequency')"
      ]
     },
     "execution_count": 28,
     "metadata": {},
     "output_type": "execute_result"
    },
    {
     "data": {
      "image/png": "[encoded data removed]",
      "text/plain": [
       "<matplotlib.figure.Figure at 0x7f4f3aa18780>"
      ]
     },
     "metadata": {
      "needs_background": "light"
     },
     "output_type": "display_data"
    }
   ],
   "source": [
    "plt.hist(df.WeekDay[not_attend], color = 'blue', edgecolor = 'black',\n",
    "         bins = int(180/2))\n",
    "plt.title('Histogram of Weekday distribution in no show')\n",
    "plt.xlabel('Weekday')\n",
    "plt.ylabel('Frequency')"
   ]
  },
  {
   "cell_type": "markdown",
   "metadata": {},
   "source": [
    "According to the above histogram, only few patients are no show on Saturday's appointment. It is most likely that the patients are not showing at the appointments on Tuesday and Wednesday."
   ]
  },
  {
   "cell_type": "code",
   "execution_count": 29,
   "metadata": {},
   "outputs": [
    {
     "data": {
      "text/plain": [
       "WeekDay    NoShow\n",
       "Friday     No        14981\n",
       "           Yes        4037\n",
       "Monday     No        18023\n",
       "           Yes        4689\n",
       "Saturday   No           30\n",
       "           Yes           9\n",
       "Thursday   No        13908\n",
       "           Yes        3336\n",
       "Tuesday    No        20487\n",
       "           Yes        5152\n",
       "Wednesday  No        20774\n",
       "           Yes        5093\n",
       "Name: NoShow, dtype: int64"
      ]
     },
     "execution_count": 29,
     "metadata": {},
     "output_type": "execute_result"
    }
   ],
   "source": [
    "df.groupby ('WeekDay')['NoShow'].value_counts()"
   ]
  },
  {
   "cell_type": "code",
   "execution_count": 30,
   "metadata": {},
   "outputs": [
    {
     "data": {
      "text/plain": [
       "Wednesday    25867\n",
       "Tuesday      25639\n",
       "Monday       22712\n",
       "Friday       19018\n",
       "Thursday     17244\n",
       "Saturday        39\n",
       "Name: WeekDay, dtype: int64"
      ]
     },
     "execution_count": 30,
     "metadata": {},
     "output_type": "execute_result"
    }
   ],
   "source": [
    "df.WeekDay.value_counts()"
   ]
  },
  {
   "cell_type": "code",
   "execution_count": 31,
   "metadata": {},
   "outputs": [
    {
     "name": "stdout",
     "output_type": "stream",
     "text": [
      "0.19689179263153825\n",
      "0.20094387456609072\n",
      "0.2064547375836562\n",
      "0.21227258386791462\n",
      "0.19345859429366735\n",
      "0.23076923076923078\n"
     ]
    }
   ],
   "source": [
    "#Wednesday\n",
    "print(5093/25867)\n",
    "#Tuesday\n",
    "print(5152/25639)\n",
    "#Monday\n",
    "print(4689/22712)\n",
    "#Friday \n",
    "print(4037/19018)\n",
    "#Thursday\n",
    "print(3336/17244)\n",
    "#Saturday\n",
    "print(9/39)"
   ]
  },
  {
   "cell_type": "markdown",
   "metadata": {},
   "source": [
    "Although the no show frequency is lowest on Saturdays. The percentage of no show is highest on Saturdays. The percentage of no show is lowest on Thursdays which is 19.35%."
   ]
  },
  {
   "cell_type": "markdown",
   "metadata": {},
   "source": []
  },
  {
   "cell_type": "markdown",
   "metadata": {},
   "source": [
    "<a id='conclusions'></a>\n",
    "## Conclusions\n",
    "Different categories of patients are having different performance on no show. There are more female patients than male patients in total. The percentage of no show in female group is slightly higher than male group. The percentage of no show in female group is 20.31%.  The percentage of no show in male group is 19.67%. \n",
    "\n",
    "Although the no show frequency is lowest on Saturdays. The percentage of no show is highest on Saturdays. The percentage of no show is lowest on Thursdays which is 19.35%.\n",
    "\n",
    "\n",
    "\n"
   ]
  },
  {
   "cell_type": "code",
   "execution_count": 32,
   "metadata": {},
   "outputs": [
    {
     "data": {
      "text/plain": [
       "PatientId         0\n",
       "Gender            0\n",
       "ScheduledDay      0\n",
       "AppointmentDay    0\n",
       "Age               0\n",
       "Neighbourhood     0\n",
       "Scholarship       0\n",
       "Hipertension      0\n",
       "Diabetes          0\n",
       "Alcoholism        0\n",
       "Handcap           0\n",
       "SMS_received      0\n",
       "NoShow            0\n",
       "WeekDay           0\n",
       "dtype: int64"
      ]
     },
     "execution_count": 32,
     "metadata": {},
     "output_type": "execute_result"
    }
   ],
   "source": [
    "df.isnull().sum()"
   ]
  },
  {
   "cell_type": "markdown",
   "metadata": {},
   "source": [
    "There are some limitations in the data. \n",
    "There are no data is having null values or highly correlated having erroneous or missing values or imbalanced data. \n",
    "\n",
    "Based on the age distribution, most of the patients are lying on a yonunger age range, which is a great reflection to the normal distributed age range. This will lead to wrong analysis which will lead to wrong predictions or biased analysis on no show in age. \n"
   ]
  },
  {
   "cell_type": "code",
   "execution_count": 33,
   "metadata": {},
   "outputs": [
    {
     "data": {
      "text/plain": [
       "0"
      ]
     },
     "execution_count": 33,
     "metadata": {},
     "output_type": "execute_result"
    }
   ],
   "source": [
    "from subprocess import call\n",
    "call(['python', '-m', 'nbconvert', 'Investigate_a_Dataset.ipynb'])"
   ]
  }
 ],
 "metadata": {
  "kernelspec": {
   "display_name": "Python 3",
   "language": "python",
   "name": "python3"
  },
  "language_info": {
   "codemirror_mode": {
    "name": "ipython",
    "version": 3
   },
   "file_extension": ".py",
   "mimetype": "text/x-python",
   "name": "python",
   "nbconvert_exporter": "python",
   "pygments_lexer": "ipython3",
   "version": "3.6.3"
  }
 },
 "nbformat": 4,
 "nbformat_minor": 2
}
